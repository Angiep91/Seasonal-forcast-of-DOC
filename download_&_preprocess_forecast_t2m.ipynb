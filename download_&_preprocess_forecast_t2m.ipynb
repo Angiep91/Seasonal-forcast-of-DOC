{
 "cells": [
  {
   "cell_type": "markdown",
   "metadata": {
    "papermill": {
     "duration": 0.08321,
     "end_time": "2022-03-14T17:49:44.888825",
     "exception": false,
     "start_time": "2022-03-14T17:49:44.805615",
     "status": "completed"
    },
    "tags": []
   },
   "source": [
    "![logo](./img/LogoLine_horizon_C3S.png)"
   ]
  },
  {
   "cell_type": "markdown",
   "metadata": {
    "papermill": {
     "duration": 0.081751,
     "end_time": "2022-03-14T17:49:45.053733",
     "exception": false,
     "start_time": "2022-03-14T17:49:44.971982",
     "status": "completed"
    },
    "tags": []
   },
   "source": [
    "<br>"
   ]
  },
  {
   "cell_type": "markdown",
   "metadata": {
    "papermill": {
     "duration": 0.082814,
     "end_time": "2022-03-14T17:49:45.21891",
     "exception": false,
     "start_time": "2022-03-14T17:49:45.136096",
     "status": "completed"
    },
    "tags": []
   },
   "source": [
    "# Seasonal forecast download and plot for one coordinate"
   ]
  },
  {
   "cell_type": "markdown",
   "metadata": {
    "papermill": {
     "duration": 0.080985,
     "end_time": "2022-03-14T17:49:45.381362",
     "exception": false,
     "start_time": "2022-03-14T17:49:45.300377",
     "status": "completed"
    },
    "tags": []
   },
   "source": [
    "### About"
   ]
  },
  {
   "cell_type": "markdown",
   "metadata": {
    "papermill": {
     "duration": 0.081266,
     "end_time": "2022-03-14T17:49:45.544033",
     "exception": false,
     "start_time": "2022-03-14T17:49:45.462767",
     "status": "completed"
    },
    "tags": []
   },
   "source": [
    "This notebook is based on \"Seasonal Forecast Anomalies\": https://ecmwf-projects.github.io/copernicus-training-c3s/sf-anomalies.html\n",
    "It was mainly modified to use daily resolution instead of monthly.\n",
    "It provides a practical introduction to calculating seasonal forecast with data from the Copernicus Climate Change Service (C3S). C3S seasonal forecast products are based on data from several state-of-the-art seasonal prediction systems. In this tutorial we shall focus on the [ECMWF SEAS5 model](https://confluence.ecmwf.int/display/CKB/Description+of+SEAS5+C3S+contribution), which is one of the forecasting systems available through C3S.\n",
    "\n",
    "The tutorial will demonstrate how to access real-time forecast data of total precipitation, with a forecast start date in May 2023 and 6-7 monthly lead times (up to October 2023). Hindcast data for the same start date and lead-time months in the reference period 1993 to 2016 will also be downloaded. \n",
    "\n",
    "The tutorial will then show how to interpolate in a coordinate for both the forecast and hindcast data. (The climate mean for the reference period will be computed and this reference mean will be subtracted from the real-time forecast data to derive monthly anomalies BORRAR?). These will be visualised as time series. Finally, 3-monthly anomalies will be calculated and visualised in an interactive plot, as a demonstration of how to reproduce similar [charts available through C3S](https://climate.copernicus.eu/charts/c3s_seasonal/)."
   ]
  },
  {
   "cell_type": "markdown",
   "metadata": {
    "papermill": {
     "duration": 0.080595,
     "end_time": "2022-03-14T17:49:45.706112",
     "exception": false,
     "start_time": "2022-03-14T17:49:45.625517",
     "status": "completed"
    },
    "tags": []
   },
   "source": [
    "\n",
    "The notebook has the following outline:\n",
    "* 1 - Download data from the CDS\n",
    "* 2 - Real-time forecasts "
   ]
  },
  {
   "cell_type": "markdown",
   "metadata": {},
   "source": [
    "<br>"
   ]
  },
  {
   "cell_type": "markdown",
   "metadata": {},
   "source": [
    "<div class=\"alert alert-block alert-success\">\n",
    "<b>NOTE</b>: <br>\n",
    "    <a href=\"https://cds.climate.copernicus.eu/cdsapp#!/dataset/seasonal-postprocessed-single-levels\">Precomputed anomalies are also available through the CDS</a>. Note these may be slightly different due to minor differences in the way they are computed (e.g. months of constant length, 30 days)  and also due to GRIB packing discretisation. <a href=\"https://confluence.ecmwf.int/display/UDOC/Why+are+there+sometimes+small+negative+precipitation+accumulations+-+ecCodes+GRIB+FAQ\">See here for more detials.</a></div>"
   ]
  },
  {
   "cell_type": "markdown",
   "metadata": {
    "papermill": {
     "duration": 0.080906,
     "end_time": "2022-03-14T17:49:45.869012",
     "exception": false,
     "start_time": "2022-03-14T17:49:45.788106",
     "status": "completed"
    },
    "tags": []
   },
   "source": [
    "Please see here the full documentation of the [C3S Seasonal Forecast Datasets](https://confluence.ecmwf.int/display/CKB/C3S+Seasonal+Forecasts%3A+datasets+documentation). This notebook introduces you to the [seasonal forecast monthly statistics](https://cds.climate.copernicus.eu/cdsapp#!/dataset/seasonal-monthly-single-levels?tab=overview) datasets on single levels (as opposed to multiple levels in the atmosphere)."
   ]
  },
  {
   "cell_type": "markdown",
   "metadata": {
    "papermill": {
     "duration": 0.082989,
     "end_time": "2022-03-14T17:49:46.192983",
     "exception": false,
     "start_time": "2022-03-14T17:49:46.109994",
     "status": "completed"
    },
    "tags": []
   },
   "source": [
    "<style>\n",
    "td, th {\n",
    "   border: 1px solid white;\n",
    "   border-collapse: collapse;\n",
    "}\n",
    "</style>\n",
    "<table align=\"left\">\n",
    "  <tr>\n",
    "    <th>Run the tutorial via free cloud platforms: </th>\n",
    "    <th><a href=\"https://mybinder.org/v2/gh/ecmwf-projects/copernicus-training-c3s/main?labpath=sf-anomalies.ipynb\">\n",
    "        <img src = \"https://mybinder.org/badge.svg\" alt = \"Binder\"></th>\n",
    "    <th><a href=\"https://kaggle.com/kernels/welcome?src=https://github.com/ecmwf-projects/copernicus-training-c3s/blob/main/sf-anomalies.ipynb\">\n",
    "        <img src = \"https://kaggle.com/static/images/open-in-kaggle.svg\" alt = \"Kaggle\"></th>\n",
    "    <th><a href=\"https://colab.research.google.com/github/ecmwf-projects/copernicus-training-c3s/blob/main/sf-anomalies.ipynb\">\n",
    "        <img src = \"https://colab.research.google.com/assets/colab-badge.svg\" alt = \"Colab\"></th>\n",
    "  </tr>\n",
    "</table>"
   ]
  },
  {
   "cell_type": "markdown",
   "metadata": {
    "papermill": {
     "duration": 0.081673,
     "end_time": "2022-03-14T17:49:46.520252",
     "exception": false,
     "start_time": "2022-03-14T17:49:46.438579",
     "status": "completed"
    },
    "tags": []
   },
   "source": [
    "<hr>"
   ]
  },
  {
   "cell_type": "markdown",
   "metadata": {
    "papermill": {
     "duration": 0.081079,
     "end_time": "2022-03-14T17:49:46.683509",
     "exception": false,
     "start_time": "2022-03-14T17:49:46.60243",
     "status": "completed"
    },
    "tags": []
   },
   "source": [
    "### Install packages"
   ]
  },
  {
   "cell_type": "code",
   "execution_count": 29,
   "metadata": {
    "papermill": {
     "duration": 12.174934,
     "end_time": "2022-03-14T17:49:58.941932",
     "exception": false,
     "start_time": "2022-03-14T17:49:46.766998",
     "status": "completed"
    },
    "tags": []
   },
   "outputs": [],
   "source": [
    "# Install CDS API for downloading data from the CDS\n",
    "#!pip install \"cdsapi>=0.7.2\""
   ]
  },
  {
   "cell_type": "code",
   "execution_count": 1,
   "metadata": {
    "papermill": {
     "duration": 127.036612,
     "end_time": "2022-03-14T17:52:06.036378",
     "exception": false,
     "start_time": "2022-03-14T17:49:58.999766",
     "status": "completed"
    },
    "tags": []
   },
   "outputs": [],
   "source": [
    "# Install cfgrib to enable us to read GRIB format files\n",
    "#!conda install -c conda-forge cfgrib -y\n",
    "#conda update -n base -c conda-forge conda      In case it needs to be updated"
   ]
  },
  {
   "cell_type": "code",
   "execution_count": 33,
   "metadata": {
    "papermill": {
     "duration": 2.519057,
     "end_time": "2022-03-14T17:52:09.394032",
     "exception": false,
     "start_time": "2022-03-14T17:52:06.874975",
     "status": "completed"
    },
    "tags": []
   },
   "outputs": [],
   "source": [
    "# Miscellaneous operating system interfaces\n",
    "import os\n",
    "\n",
    "# CDS API\n",
    "import cdsapi\n",
    "\n",
    "# To map GRIB files to NetCDF Common Data Model\n",
    "import cfgrib\n",
    "\n",
    "# Libraries for working with multi-dimensional arrays\n",
    "import numpy as np\n",
    "import xarray as xr\n",
    "import pandas as pd\n",
    "import scipy\n",
    "\n",
    "# Libraries for plotting and geospatial data visualisation\n",
    "import matplotlib.path as mpath\n",
    "import matplotlib.pyplot as plt\n",
    "\n",
    "import cartopy.crs as ccrs\n",
    "from cartopy.mpl.gridliner import LONGITUDE_FORMATTER, LATITUDE_FORMATTER\n",
    "import cartopy.feature as cfeature\n",
    "\n",
    "# To work with data labels in dictionary format\n",
    "from collections import OrderedDict\n",
    "\n",
    "# Date and time related libraries\n",
    "from dateutil.relativedelta import relativedelta\n",
    "from calendar import monthrange\n",
    "import datetime\n",
    "\n",
    "# Interactive HTML widgets\n",
    "import ipywidgets as widgets\n",
    "\n",
    "# Disable warnings for data download via API\n",
    "import urllib3 \n",
    "urllib3.disable_warnings()"
   ]
  },
  {
   "cell_type": "markdown",
   "metadata": {
    "papermill": {
     "duration": 0.359685,
     "end_time": "2022-03-14T17:52:10.17792",
     "exception": false,
     "start_time": "2022-03-14T17:52:09.818235",
     "status": "completed"
    },
    "tags": []
   },
   "source": [
    "<hr>"
   ]
  },
  {
   "cell_type": "markdown",
   "metadata": {
    "papermill": {
     "duration": 0.274576,
     "end_time": "2022-03-14T17:52:10.724408",
     "exception": false,
     "start_time": "2022-03-14T17:52:10.449832",
     "status": "completed"
    },
    "tags": []
   },
   "source": [
    "## 1. Request data from the CDS programmatically with the CDS API"
   ]
  },
  {
   "cell_type": "markdown",
   "metadata": {
    "papermill": {
     "duration": 0.317649,
     "end_time": "2022-03-14T17:52:11.316089",
     "exception": false,
     "start_time": "2022-03-14T17:52:10.99844",
     "status": "completed"
    },
    "tags": []
   },
   "source": [
    "The first step is to request data from the Climate Data Store programmatically with the help of the CDS API. Let us make use of the option to manually set the CDS API credentials. First, you have to define two variables: `URL` and `KEY` which build together your CDS API key. Below, you have to replace the `#########` with your personal CDS key. Please find [here](https://cds.climate.copernicus.eu/api-how-to) your personal CDS key."
   ]
  },
  {
   "cell_type": "code",
   "execution_count": 53,
   "metadata": {
    "papermill": {
     "duration": 0.431818,
     "end_time": "2022-03-14T17:52:12.171912",
     "exception": false,
     "start_time": "2022-03-14T17:52:11.740094",
     "status": "completed"
    },
    "tags": []
   },
   "outputs": [],
   "source": [
    "URL = 'https://cds.climate.copernicus.eu/api'  #https://cds.climate.copernicus.eu/api'\n",
    "KEY = '7c7e2544-915e-4f95-b994-8a949747cd5d'\n",
    "variable_name = '2m_temperature'\n",
    "var_short = 't2m'\n",
    "month_num = 12\n",
    "forecast_year = 2023"
   ]
  },
  {
   "cell_type": "markdown",
   "metadata": {},
   "source": [
    "Here we specify a data directory in which we will download our data and all output files that we will generate:"
   ]
  },
  {
   "cell_type": "code",
   "execution_count": 54,
   "metadata": {},
   "outputs": [],
   "source": [
    "DATADIR = 'C:/Users/apedregal/Documents/inventWater_docs/Modelling/Seasonal forecasts/seasonal/forecast/'"
   ]
  },
  {
   "cell_type": "markdown",
   "metadata": {
    "papermill": {
     "duration": 0.42258,
     "end_time": "2022-03-14T17:52:13.01783",
     "exception": false,
     "start_time": "2022-03-14T17:52:12.59525",
     "status": "completed"
    },
    "tags": []
   },
   "source": [
    "The next step is then to request the seasonal forecast daily data on single levels with the help of the CDS API. \n",
    "Below, we download two separate files of the variable for six monthly lead times.\n",
    "For instance to start date in May: \n",
    "                                                                                                     **Forecasts for November 2019**\n",
    "\n",
    "Seasonal forecast data are disseminated in the GRIB data format. Let us store the data in the main working directory with the name: \n",
    "* `ecmwf_seas5_2023_05_forecast_daily_tp.grib`.\n",
    "\n",
    "Running the code block below will download the data from the CDS as specified by the following API keywords:\n",
    "\n",
    "> **Format**: `Grib` <br>\n",
    "> **Originating centre**: `ECMWF` <br>\n",
    "> **System**: `5` *this refers to SEAS5* <br>\n",
    "> **Variable**: `Total precipitation` or `2m temperature` <br>\n",
    "> **Product type**: `Monthly mean` *all ensemble members will be retrieved* <br>\n",
    "> **Year**: `1993 to 2016` *for the hindcast* `2023` *for the forecast* <br>\n",
    "> **Month**: `5` *May* <br>\n",
    "> **Leadtime month**: `1 to 6` *May to October*"
   ]
  },
  {
   "cell_type": "markdown",
   "metadata": {},
   "source": [
    "If you have not already done so, you will need to accept the **terms & conditions** of the data before you can download it. These can be viewed and accepted in the [CDS download page](https://cds.climate.copernicus.eu/cdsapp#!/dataset/seasonal-monthly-single-levels?tab=form) by scrolling to the end of the download form."
   ]
  },
  {
   "cell_type": "code",
   "execution_count": 55,
   "metadata": {},
   "outputs": [
    {
     "name": "stderr",
     "output_type": "stream",
     "text": [
      "2025-02-16 21:08:53,116 INFO [2024-09-26T00:00:00] Watch our [Forum](https://forum.ecmwf.int/) for Announcements, news and other discussed topics.\n",
      "2025-02-16 21:08:53,117 WARNING [2024-06-16T00:00:00] CDS API syntax is changed and some keys or parameter names may have also changed. To avoid requests failing, please use the \"Show API request code\" tool on the dataset Download Form to check you are using the correct syntax for your API request.\n",
      "2025-02-16 21:08:54,333 INFO Request ID is 2362a352-9465-4595-b6e4-67d58887918f\n",
      "2025-02-16 21:08:54,415 INFO status has been updated to accepted\n",
      "2025-02-16 21:08:59,477 INFO status has been updated to running\n",
      "2025-02-16 21:13:13,213 INFO status has been updated to successful\n"
     ]
    },
    {
     "data": {
      "application/vnd.jupyter.widget-view+json": {
       "model_id": "",
       "version_major": 2,
       "version_minor": 0
      },
      "text/plain": [
       "2ea84543cb55281578acfefb75476b25.grib:   0%|          | 0.00/5.19M [00:00<?, ?B/s]"
      ]
     },
     "metadata": {},
     "output_type": "display_data"
    },
    {
     "data": {
      "text/plain": [
       "'C:/Users/apedregal/Documents/inventWater_docs/Modelling/Seasonal forecasts/seasonal/forecast//ecmwf_seas5_2023_12_forecast_daily_t2m.grib'"
      ]
     },
     "execution_count": 55,
     "metadata": {},
     "output_type": "execute_result"
    }
   ],
   "source": [
    "c = cdsapi.Client(url=URL, key=KEY)\n",
    "\n",
    "# Forecast data request\n",
    "c.retrieve(\n",
    "    'seasonal-original-single-levels',\n",
    "    {\n",
    "        'format': 'grib',\n",
    "        'originating_centre': 'ecmwf',\n",
    "        'system': '51',\n",
    "        'variable': variable_name,\n",
    "        'year': forecast_year,\n",
    "        'month': month_num,\n",
    "        'day': '01',\n",
    "        'leadtime_hour': [\n",
    "            '6', '12', '18',\n",
    "            '24', '30', '36',\n",
    "            '42', '48', '54',\n",
    "            '60', '66', '72',\n",
    "            '78', '84', '90',\n",
    "            '96', '102', '108',\n",
    "            '114', '120', '126',\n",
    "            '132', '138', '144',\n",
    "            '150', '156', '162',\n",
    "            '168', '174', '180',\n",
    "            '186', '192', '198',\n",
    "            '204', '210', '216',\n",
    "            '222', '228', '234',\n",
    "            '240', '246', '252',\n",
    "            '258', '264', '270',\n",
    "            '276', '282', '288',\n",
    "            '294', '300', '306',\n",
    "            '312', '318', '324',\n",
    "            '330', '336', '342',\n",
    "            '348', '354', '360',\n",
    "            '366', '372', '378',\n",
    "            '384', '390', '396',\n",
    "            '402', '408', '414',\n",
    "            '420', '426', '432',\n",
    "            '438', '444', '450',\n",
    "            '456', '462', '468',\n",
    "            '474', '480', '486',\n",
    "            '492', '498', '504',\n",
    "            '510', '516', '522',\n",
    "            '528', '534', '540',\n",
    "            '546', '552', '558',\n",
    "            '564', '570', '576',\n",
    "            '582', '588', '594',\n",
    "            '600', '606', '612',\n",
    "            '618', '624', '630',\n",
    "            '636', '642', '648',\n",
    "            '654', '660', '666',\n",
    "            '672', '678', '684',\n",
    "            '690', '696', '702',\n",
    "            '708', '714', '720',\n",
    "            '726', '732', '738',\n",
    "            '744', '750', '756',\n",
    "            '762', '768', '774',\n",
    "            '780', '786', '792',\n",
    "            '798', '804', '810',\n",
    "            '816', '822', '828',\n",
    "            '834', '840', '846',\n",
    "            '852', '858', '864',\n",
    "            '870', '876', '882',\n",
    "            '888', '894', '900',\n",
    "            '906', '912', '918',\n",
    "            '924', '930', '936',\n",
    "            '942', '948', '954',\n",
    "            '960', '966', '972',\n",
    "            '978', '984', '990',\n",
    "            '996', '1002', '1008',\n",
    "            '1014', '1020', '1026',\n",
    "            '1032', '1038', '1044',\n",
    "            '1050', '1056', '1062',\n",
    "            '1068', '1074', '1080',\n",
    "            '1086', '1092', '1098',\n",
    "            '1104', '1110', '1116',\n",
    "            '1122', '1128', '1134',\n",
    "            '1140', '1146', '1152',\n",
    "            '1158', '1164', '1170',\n",
    "            '1176', '1182', '1188',\n",
    "            '1194', '1200', '1206',\n",
    "            '1212', '1218', '1224',\n",
    "            '1230', '1236', '1242',\n",
    "            '1248', '1254', '1260',\n",
    "            '1266', '1272', '1278',\n",
    "            '1284', '1290', '1296',\n",
    "            '1302', '1308', '1314',\n",
    "            '1320', '1326', '1332',\n",
    "            '1338', '1344', '1350',\n",
    "            '1356', '1362', '1368',\n",
    "            '1374', '1380', '1386',\n",
    "            '1392', '1398', '1404',\n",
    "            '1410', '1416', '1422',\n",
    "            '1428', '1434', '1440',\n",
    "            '1446', '1452', '1458',\n",
    "            '1464', '1470', '1476',\n",
    "            '1482', '1488', '1494',\n",
    "            '1500', '1506', '1512',\n",
    "            '1518', '1524', '1530',\n",
    "            '1536', '1542', '1548',\n",
    "            '1554', '1560', '1566',\n",
    "            '1572', '1578', '1584',\n",
    "            '1590', '1596', '1602',\n",
    "            '1608', '1614', '1620',\n",
    "            '1626', '1632', '1638',\n",
    "            '1644', '1650', '1656',\n",
    "            '1662', '1668', '1674',\n",
    "            '1680', '1686', '1692',\n",
    "            '1698', '1704', '1710',\n",
    "            '1716', '1722', '1728',\n",
    "            '1734', '1740', '1746',\n",
    "            '1752', '1758', '1764',\n",
    "            '1770', '1776', '1782',\n",
    "            '1788', '1794', '1800',\n",
    "            '1806', '1812', '1818',\n",
    "            '1824', '1830', '1836',\n",
    "            '1842', '1848', '1854',\n",
    "            '1860', '1866', '1872',\n",
    "            '1878', '1884', '1890',\n",
    "            '1896', '1902', '1908',\n",
    "            '1914', '1920', '1926',\n",
    "            '1932', '1938', '1944',\n",
    "            '1950', '1956', '1962',\n",
    "            '1968', '1974', '1980',\n",
    "            '1986', '1992', '1998',\n",
    "            '2004', '2010', '2016',\n",
    "            '2022', '2028', '2034',\n",
    "            '2040', '2046', '2052',\n",
    "            '2058', '2064', '2070',\n",
    "            '2076', '2082', '2088',\n",
    "            '2094', '2100', '2106',\n",
    "            '2112', '2118', '2124',\n",
    "            '2130', '2136', '2142',\n",
    "            '2148', '2154', '2160',\n",
    "            '2166', '2172', '2178',\n",
    "            '2184', '2190', '2196',\n",
    "            '2202', '2208', '2214',\n",
    "            '2220', '2226', '2232',\n",
    "            '2238', '2244', '2250',\n",
    "            '2256', '2262', '2268',\n",
    "            '2274', '2280', '2286',\n",
    "            '2292', '2298', '2304',\n",
    "            '2310', '2316', '2322',\n",
    "            '2328', '2334', '2340',\n",
    "            '2346', '2352', '2358',\n",
    "            '2364', '2370', '2376',\n",
    "            '2382', '2388', '2394',\n",
    "            '2400', '2406', '2412',\n",
    "            '2418', '2424', '2430',\n",
    "            '2436', '2442', '2448',\n",
    "            '2454', '2460', '2466',\n",
    "            '2472', '2478', '2484',\n",
    "            '2490', '2496', '2502',\n",
    "            '2508', '2514', '2520',\n",
    "            '2526', '2532', '2538',\n",
    "            '2544', '2550', '2556',\n",
    "            '2562', '2568', '2574',\n",
    "            '2580', '2586', '2592',\n",
    "            '2598', '2604', '2610',\n",
    "            '2616', '2622', '2628',\n",
    "            '2634', '2640', '2646',\n",
    "            '2652', '2658', '2664',\n",
    "            '2670', '2676', '2682',\n",
    "            '2688', '2694', '2700',\n",
    "            '2706', '2712', '2718',\n",
    "            '2724', '2730', '2736',\n",
    "            '2742', '2748', '2754',\n",
    "            '2760', '2766', '2772',\n",
    "            '2778', '2784', '2790',\n",
    "            '2796', '2802', '2808',\n",
    "            '2814', '2820', '2826',\n",
    "            '2832', '2838', '2844',\n",
    "            '2850', '2856', '2862',\n",
    "            '2868', '2874', '2880',\n",
    "            '2886', '2892', '2898',\n",
    "            '2904', '2910', '2916',\n",
    "            '2922', '2928', '2934',\n",
    "            '2940', '2946', '2952',\n",
    "            '2958', '2964', '2970',\n",
    "            '2976', '2982', '2988',\n",
    "            '2994', '3000', '3006',\n",
    "            '3012', '3018', '3024',\n",
    "            '3030', '3036', '3042',\n",
    "            '3048', '3054', '3060',\n",
    "            '3066', '3072', '3078',\n",
    "            '3084', '3090', '3096',\n",
    "            '3102', '3108', '3114',\n",
    "            '3120', '3126', '3132',\n",
    "            '3138', '3144', '3150',\n",
    "            '3156', '3162', '3168',\n",
    "            '3174', '3180', '3186',\n",
    "            '3192', '3198', '3204',\n",
    "            '3210', '3216', '3222',\n",
    "            '3228', '3234', '3240',\n",
    "            '3246', '3252', '3258',\n",
    "            '3264', '3270', '3276',\n",
    "            '3282', '3288', '3294',\n",
    "            '3300', '3306', '3312',\n",
    "            '3318', '3324', '3330',\n",
    "            '3336', '3342', '3348',\n",
    "            '3354', '3360', '3366',\n",
    "            '3372', '3378', '3384',\n",
    "            '3390', '3396', '3402',\n",
    "            '3408', '3414', '3420',\n",
    "            '3426', '3432', '3438',\n",
    "            '3444', '3450', '3456',\n",
    "            '3462', '3468', '3474',\n",
    "            '3480', '3486', '3492',\n",
    "            '3498', '3504', '3510',\n",
    "            '3516', '3522', '3528',\n",
    "            '3534', '3540', '3546',\n",
    "            '3552', '3558', '3564',\n",
    "            '3570', '3576', '3582',\n",
    "            '3588', '3594', '3600',\n",
    "            '3606', '3612', '3618',\n",
    "            '3624', '3630', '3636',\n",
    "            '3642', '3648', '3654',\n",
    "            '3660', '3666', '3672',\n",
    "            '3678', '3684', '3690',\n",
    "            '3696', '3702', '3708',\n",
    "            '3714', '3720', '3726',\n",
    "            '3732', '3738', '3744',\n",
    "            '3750', '3756', '3762',\n",
    "            '3768', '3774', '3780',\n",
    "            '3786', '3792', '3798',\n",
    "            '3804', '3810', '3816',\n",
    "            '3822', '3828', '3834',\n",
    "            '3840', '3846', '3852',\n",
    "            '3858', '3864', '3870',\n",
    "            '3876', '3882', '3888',\n",
    "            '3894', '3900', '3906',\n",
    "            '3912', '3918', '3924',\n",
    "            '3930', '3936', '3942',\n",
    "            '3948', '3954', '3960',\n",
    "            '3966', '3972', '3978',\n",
    "            '3984', '3990', '3996',\n",
    "            '4002', '4008', '4014',\n",
    "            '4020', '4026', '4032',\n",
    "            '4038', '4044', '4050',\n",
    "            '4056', '4062', '4068',\n",
    "            '4074', '4080', '4086',\n",
    "            '4092', '4098', '4104',\n",
    "            '4110', '4116', '4122',\n",
    "            '4128', '4134', '4140',\n",
    "            '4146', '4152', '4158',\n",
    "            '4164', '4170', '4176',\n",
    "            '4182', '4188', '4194',\n",
    "            '4200', '4206', '4212',\n",
    "            '4218', '4224', '4230',\n",
    "            '4236', '4242', '4248',\n",
    "            '4254', '4260', '4266',\n",
    "            '4272', '4278', '4284',\n",
    "            '4290', '4296', '4302',\n",
    "            '4308', '4314', '4320',\n",
    "            '4326', '4332', '4338',\n",
    "            '4344', '4350', '4356',\n",
    "            '4362', '4368', '4374',\n",
    "            '4380', '4386', '4392',\n",
    "            '4398', '4404', '4410',\n",
    "            '4416', '4422', '4428',\n",
    "            '4434', '4440', '4446',\n",
    "            '4452', '4458', '4464',\n",
    "            '4470', '4476', '4482',\n",
    "            '4488', '4494', '4500',\n",
    "            '4506', '4512', '4518',\n",
    "            '4524', '4530', '4536',\n",
    "            '4542', '4548', '4554',\n",
    "            '4560', '4566', '4572',\n",
    "            '4578', '4584', '4590',\n",
    "            '4596', '4602', '4608',\n",
    "            '4614', '4620', '4626',\n",
    "            '4632', '4638', '4644',\n",
    "            '4650', '4656', '4662',\n",
    "            '4668', '4674', '4680',\n",
    "            '4686', '4692', '4698',\n",
    "            '4704', '4710', '4716',\n",
    "            '4722', '4728', '4734',\n",
    "            '4740', '4746', '4752',\n",
    "            '4758', '4764', '4770',\n",
    "            '4776', '4782', '4788',\n",
    "            '4794', '4800', '4806',\n",
    "            '4812', '4818', '4824',\n",
    "            '4830', '4836', '4842',\n",
    "            '4848', '4854', '4860',\n",
    "            '4866', '4872', '4878',\n",
    "            '4884', '4890', '4896',\n",
    "            '4902', '4908', '4914',\n",
    "            '4920', '4926', '4932',\n",
    "            '4938', '4944', '4950',\n",
    "            '4956', '4962', '4968',\n",
    "            '4974', '4980', '4986',\n",
    "            '4992', '4998', '5004',\n",
    "            '5010', '5016', '5022',\n",
    "            '5028', '5034', '5040',\n",
    "            '5046', '5052', '5058',\n",
    "            '5064', '5070', '5076',\n",
    "            '5082', '5088', '5094',\n",
    "            '5100', '5106', '5112',\n",
    "            '5118', '5124', '5130',\n",
    "            '5136', '5142', '5148',\n",
    "            '5154', '5160',\n",
    "        ],\n",
    "        'area': [\n",
    "            43, 2, 42,\n",
    "            3,\n",
    "        ],\n",
    "    },\n",
    "    f'{DATADIR}/ecmwf_seas5_'+ str(forecast_year) + '_' + str(month_num) + '_forecast_daily_' + var_short + '.grib')"
   ]
  },
  {
   "cell_type": "markdown",
   "metadata": {
    "papermill": {
     "duration": null,
     "end_time": null,
     "exception": null,
     "start_time": null,
     "status": "pending"
    },
    "tags": []
   },
   "source": [
    "## 2. Preprocess Seasonal forecast data"
   ]
  },
  {
   "cell_type": "markdown",
   "metadata": {
    "papermill": {
     "duration": null,
     "end_time": null,
     "exception": null,
     "start_time": null,
     "status": "pending"
    },
    "tags": []
   },
   "source": [
    "The next step is to load the real-time seasonal forecast data for 6 lead time months. We will then subtract the hindcast climatology from this to derive the anomalies. \n"
   ]
  },
  {
   "cell_type": "markdown",
   "metadata": {},
   "source": [
    "Once the `xarray.Dataset` is loaded, you see that it has 4 dimensions:\n",
    "> **Number**: 51 ensemble members <br>\n",
    "> **ForecastMonth**: 6 leadtime months <br>\n",
    "> **Latitude**: latitude values <br>\n",
    "> **Longitude**: longitude values <br>\n",
    "\n",
    "Compared to the hindcast data, we have only a single start date (e.g., May 2023) in the `time` coordinate. Another difference is that seasonal forecast real-time data have 51 ensemble members, compared to hindcasts, which only have 25 ensemble members."
   ]
  },
  {
   "cell_type": "code",
   "execution_count": 24,
   "metadata": {},
   "outputs": [],
   "source": [
    "#forecast_year=2019\n",
    "#month_num=12"
   ]
  },
  {
   "cell_type": "code",
   "execution_count": 56,
   "metadata": {},
   "outputs": [],
   "source": [
    "# Define the coordinates to interpolate to\n",
    "interp_longitude=2.25 #C1=C2=2.25\n",
    "interp_latitude=42.3  #C1=42.3, C2=42.05    --> SEAS5 HAS 1º RESOLUTION, SO, THE SAME VALUES ARE FOR C1 & C2"
   ]
  },
  {
   "cell_type": "code",
   "execution_count": 57,
   "metadata": {
    "papermill": {
     "duration": null,
     "end_time": null,
     "exception": null,
     "start_time": null,
     "status": "pending"
    },
    "tags": []
   },
   "outputs": [],
   "source": [
    "fore = xr.open_dataset(f'{DATADIR}/ecmwf_seas5_'+ str(forecast_year) + '_' + str(month_num) + '_forecast_daily_' + var_short + '.grib', engine='cfgrib')"
   ]
  },
  {
   "cell_type": "code",
   "execution_count": 58,
   "metadata": {
    "papermill": {
     "duration": null,
     "end_time": null,
     "exception": null,
     "start_time": null,
     "status": "pending"
    },
    "tags": []
   },
   "outputs": [],
   "source": [
    "fore_var = fore[var_short]"
   ]
  },
  {
   "cell_type": "markdown",
   "metadata": {
    "papermill": {
     "duration": null,
     "end_time": null,
     "exception": null,
     "start_time": null,
     "status": "pending"
    },
    "tags": []
   },
   "source": [
    "#### Convert forecast lead time month into dates\n"
   ]
  },
  {
   "cell_type": "code",
   "execution_count": 59,
   "metadata": {},
   "outputs": [],
   "source": [
    "# Interpolate the values for the specified coordinates\n",
    "fore_interp = fore_var.interp(latitude=interp_latitude, longitude=interp_longitude, method=\"nearest\")"
   ]
  },
  {
   "cell_type": "code",
   "execution_count": 60,
   "metadata": {},
   "outputs": [],
   "source": [
    "num_members = len(fore_interp)\n",
    "daily_step = int(fore_interp.sizes['step']/4)\n",
    "fore_daily = fore_interp.groupby_bins('step', bins=daily_step).mean()"
   ]
  },
  {
   "cell_type": "code",
   "execution_count": 61,
   "metadata": {},
   "outputs": [
    {
     "data": {
      "image/png": "[encoded data removed]",
      "text/plain": [
       "<Figure size 640x480 with 1 Axes>"
      ]
     },
     "metadata": {},
     "output_type": "display_data"
    }
   ],
   "source": [
    "for i in range(num_members):\n",
    "    # Select the subset of data for the current number\n",
    "    subset = fore_daily.sel(number=i)-273.15\n",
    "    \n",
    "    # Plotting\n",
    "    plt.plot(subset, color='gray', alpha=0.5, label=f'Number {i}')\n",
    "\n",
    "#plot average in black\n",
    "plt.plot(fore_daily.mean(dim='number')-273.15, color='black')\n",
    "\n",
    "# Add labels and title\n",
    "plt.xlabel('Days')\n",
    "plt.ylabel('t2m (C)')\n",
    "plt.title('Data for each number')\n",
    "#plt.legend()  # Add legend to differentiate lines\n",
    "plt.show()\n"
   ]
  },
  {
   "cell_type": "markdown",
   "metadata": {},
   "source": [
    "# 3. Extracting data to csv files"
   ]
  },
  {
   "cell_type": "code",
   "execution_count": 62,
   "metadata": {},
   "outputs": [],
   "source": [
    "#Set the path to save forecast files\n",
    "save_path = 'C:/Users/apedregal/Documents/inventWater_docs/Modelling/Seasonal forecasts/seasonal/forecast/'"
   ]
  },
  {
   "cell_type": "code",
   "execution_count": 63,
   "metadata": {},
   "outputs": [
    {
     "name": "stdout",
     "output_type": "stream",
     "text": [
      "Saved member 1 to C:/Users/apedregal/Documents/inventWater_docs/Modelling/Seasonal forecasts/seasonal/forecast/forecast_year2023_month12_member1_t2m.csv\n",
      "Saved member 2 to C:/Users/apedregal/Documents/inventWater_docs/Modelling/Seasonal forecasts/seasonal/forecast/forecast_year2023_month12_member2_t2m.csv\n",
      "Saved member 3 to C:/Users/apedregal/Documents/inventWater_docs/Modelling/Seasonal forecasts/seasonal/forecast/forecast_year2023_month12_member3_t2m.csv\n",
      "Saved member 4 to C:/Users/apedregal/Documents/inventWater_docs/Modelling/Seasonal forecasts/seasonal/forecast/forecast_year2023_month12_member4_t2m.csv\n",
      "Saved member 5 to C:/Users/apedregal/Documents/inventWater_docs/Modelling/Seasonal forecasts/seasonal/forecast/forecast_year2023_month12_member5_t2m.csv\n",
      "Saved member 6 to C:/Users/apedregal/Documents/inventWater_docs/Modelling/Seasonal forecasts/seasonal/forecast/forecast_year2023_month12_member6_t2m.csv\n",
      "Saved member 7 to C:/Users/apedregal/Documents/inventWater_docs/Modelling/Seasonal forecasts/seasonal/forecast/forecast_year2023_month12_member7_t2m.csv\n",
      "Saved member 8 to C:/Users/apedregal/Documents/inventWater_docs/Modelling/Seasonal forecasts/seasonal/forecast/forecast_year2023_month12_member8_t2m.csv\n",
      "Saved member 9 to C:/Users/apedregal/Documents/inventWater_docs/Modelling/Seasonal forecasts/seasonal/forecast/forecast_year2023_month12_member9_t2m.csv\n",
      "Saved member 10 to C:/Users/apedregal/Documents/inventWater_docs/Modelling/Seasonal forecasts/seasonal/forecast/forecast_year2023_month12_member10_t2m.csv\n",
      "Saved member 11 to C:/Users/apedregal/Documents/inventWater_docs/Modelling/Seasonal forecasts/seasonal/forecast/forecast_year2023_month12_member11_t2m.csv\n",
      "Saved member 12 to C:/Users/apedregal/Documents/inventWater_docs/Modelling/Seasonal forecasts/seasonal/forecast/forecast_year2023_month12_member12_t2m.csv\n",
      "Saved member 13 to C:/Users/apedregal/Documents/inventWater_docs/Modelling/Seasonal forecasts/seasonal/forecast/forecast_year2023_month12_member13_t2m.csv\n",
      "Saved member 14 to C:/Users/apedregal/Documents/inventWater_docs/Modelling/Seasonal forecasts/seasonal/forecast/forecast_year2023_month12_member14_t2m.csv\n",
      "Saved member 15 to C:/Users/apedregal/Documents/inventWater_docs/Modelling/Seasonal forecasts/seasonal/forecast/forecast_year2023_month12_member15_t2m.csv\n",
      "Saved member 16 to C:/Users/apedregal/Documents/inventWater_docs/Modelling/Seasonal forecasts/seasonal/forecast/forecast_year2023_month12_member16_t2m.csv\n",
      "Saved member 17 to C:/Users/apedregal/Documents/inventWater_docs/Modelling/Seasonal forecasts/seasonal/forecast/forecast_year2023_month12_member17_t2m.csv\n",
      "Saved member 18 to C:/Users/apedregal/Documents/inventWater_docs/Modelling/Seasonal forecasts/seasonal/forecast/forecast_year2023_month12_member18_t2m.csv\n",
      "Saved member 19 to C:/Users/apedregal/Documents/inventWater_docs/Modelling/Seasonal forecasts/seasonal/forecast/forecast_year2023_month12_member19_t2m.csv\n",
      "Saved member 20 to C:/Users/apedregal/Documents/inventWater_docs/Modelling/Seasonal forecasts/seasonal/forecast/forecast_year2023_month12_member20_t2m.csv\n",
      "Saved member 21 to C:/Users/apedregal/Documents/inventWater_docs/Modelling/Seasonal forecasts/seasonal/forecast/forecast_year2023_month12_member21_t2m.csv\n",
      "Saved member 22 to C:/Users/apedregal/Documents/inventWater_docs/Modelling/Seasonal forecasts/seasonal/forecast/forecast_year2023_month12_member22_t2m.csv\n",
      "Saved member 23 to C:/Users/apedregal/Documents/inventWater_docs/Modelling/Seasonal forecasts/seasonal/forecast/forecast_year2023_month12_member23_t2m.csv\n",
      "Saved member 24 to C:/Users/apedregal/Documents/inventWater_docs/Modelling/Seasonal forecasts/seasonal/forecast/forecast_year2023_month12_member24_t2m.csv\n",
      "Saved member 25 to C:/Users/apedregal/Documents/inventWater_docs/Modelling/Seasonal forecasts/seasonal/forecast/forecast_year2023_month12_member25_t2m.csv\n",
      "Saved member 26 to C:/Users/apedregal/Documents/inventWater_docs/Modelling/Seasonal forecasts/seasonal/forecast/forecast_year2023_month12_member26_t2m.csv\n",
      "Saved member 27 to C:/Users/apedregal/Documents/inventWater_docs/Modelling/Seasonal forecasts/seasonal/forecast/forecast_year2023_month12_member27_t2m.csv\n",
      "Saved member 28 to C:/Users/apedregal/Documents/inventWater_docs/Modelling/Seasonal forecasts/seasonal/forecast/forecast_year2023_month12_member28_t2m.csv\n",
      "Saved member 29 to C:/Users/apedregal/Documents/inventWater_docs/Modelling/Seasonal forecasts/seasonal/forecast/forecast_year2023_month12_member29_t2m.csv\n",
      "Saved member 30 to C:/Users/apedregal/Documents/inventWater_docs/Modelling/Seasonal forecasts/seasonal/forecast/forecast_year2023_month12_member30_t2m.csv\n",
      "Saved member 31 to C:/Users/apedregal/Documents/inventWater_docs/Modelling/Seasonal forecasts/seasonal/forecast/forecast_year2023_month12_member31_t2m.csv\n",
      "Saved member 32 to C:/Users/apedregal/Documents/inventWater_docs/Modelling/Seasonal forecasts/seasonal/forecast/forecast_year2023_month12_member32_t2m.csv\n",
      "Saved member 33 to C:/Users/apedregal/Documents/inventWater_docs/Modelling/Seasonal forecasts/seasonal/forecast/forecast_year2023_month12_member33_t2m.csv\n",
      "Saved member 34 to C:/Users/apedregal/Documents/inventWater_docs/Modelling/Seasonal forecasts/seasonal/forecast/forecast_year2023_month12_member34_t2m.csv\n",
      "Saved member 35 to C:/Users/apedregal/Documents/inventWater_docs/Modelling/Seasonal forecasts/seasonal/forecast/forecast_year2023_month12_member35_t2m.csv\n",
      "Saved member 36 to C:/Users/apedregal/Documents/inventWater_docs/Modelling/Seasonal forecasts/seasonal/forecast/forecast_year2023_month12_member36_t2m.csv\n",
      "Saved member 37 to C:/Users/apedregal/Documents/inventWater_docs/Modelling/Seasonal forecasts/seasonal/forecast/forecast_year2023_month12_member37_t2m.csv\n",
      "Saved member 38 to C:/Users/apedregal/Documents/inventWater_docs/Modelling/Seasonal forecasts/seasonal/forecast/forecast_year2023_month12_member38_t2m.csv\n",
      "Saved member 39 to C:/Users/apedregal/Documents/inventWater_docs/Modelling/Seasonal forecasts/seasonal/forecast/forecast_year2023_month12_member39_t2m.csv\n",
      "Saved member 40 to C:/Users/apedregal/Documents/inventWater_docs/Modelling/Seasonal forecasts/seasonal/forecast/forecast_year2023_month12_member40_t2m.csv\n",
      "Saved member 41 to C:/Users/apedregal/Documents/inventWater_docs/Modelling/Seasonal forecasts/seasonal/forecast/forecast_year2023_month12_member41_t2m.csv\n",
      "Saved member 42 to C:/Users/apedregal/Documents/inventWater_docs/Modelling/Seasonal forecasts/seasonal/forecast/forecast_year2023_month12_member42_t2m.csv\n",
      "Saved member 43 to C:/Users/apedregal/Documents/inventWater_docs/Modelling/Seasonal forecasts/seasonal/forecast/forecast_year2023_month12_member43_t2m.csv\n",
      "Saved member 44 to C:/Users/apedregal/Documents/inventWater_docs/Modelling/Seasonal forecasts/seasonal/forecast/forecast_year2023_month12_member44_t2m.csv\n",
      "Saved member 45 to C:/Users/apedregal/Documents/inventWater_docs/Modelling/Seasonal forecasts/seasonal/forecast/forecast_year2023_month12_member45_t2m.csv\n",
      "Saved member 46 to C:/Users/apedregal/Documents/inventWater_docs/Modelling/Seasonal forecasts/seasonal/forecast/forecast_year2023_month12_member46_t2m.csv\n",
      "Saved member 47 to C:/Users/apedregal/Documents/inventWater_docs/Modelling/Seasonal forecasts/seasonal/forecast/forecast_year2023_month12_member47_t2m.csv\n",
      "Saved member 48 to C:/Users/apedregal/Documents/inventWater_docs/Modelling/Seasonal forecasts/seasonal/forecast/forecast_year2023_month12_member48_t2m.csv\n",
      "Saved member 49 to C:/Users/apedregal/Documents/inventWater_docs/Modelling/Seasonal forecasts/seasonal/forecast/forecast_year2023_month12_member49_t2m.csv\n",
      "Saved member 50 to C:/Users/apedregal/Documents/inventWater_docs/Modelling/Seasonal forecasts/seasonal/forecast/forecast_year2023_month12_member50_t2m.csv\n",
      "Saved member 51 to C:/Users/apedregal/Documents/inventWater_docs/Modelling/Seasonal forecasts/seasonal/forecast/forecast_year2023_month12_member51_t2m.csv\n"
     ]
    }
   ],
   "source": [
    "# Loop through each member in the 'number' dimension\n",
    "for i in range(fore_daily.sizes['number']):\n",
    "    # Select data for the current member and convert the value to Celsius\n",
    "    member_data = fore_daily.isel(number=i)-273.15\n",
    "    \n",
    "    # Convert to a Pandas DataFrame\n",
    "    df = member_data.to_dataframe(name=\"value\").reset_index()\n",
    "    \n",
    "    # Keep only the 'value' column\n",
    "    df = df[['value']]\n",
    "    \n",
    "    # Generate a filename for the current member\n",
    "    file_name = f\"forecast_year{forecast_year}_month{month_num}_member{i+1}_{var_short}.csv\"  # Customize naming convention if needed\n",
    "    full_path = os.path.join(save_path, file_name)\n",
    "    \n",
    "    # Save the DataFrame to a CSV file\n",
    "    df.to_csv(full_path, index=False, header=False)  # Save without index and header\n",
    "    \n",
    "    print(f\"Saved member {i+1} to {full_path}\")"
   ]
  },
  {
   "cell_type": "code",
   "execution_count": null,
   "metadata": {},
   "outputs": [],
   "source": []
  }
 ],
 "metadata": {
  "kernelspec": {
   "display_name": "Python 3 (ipykernel)",
   "language": "python",
   "name": "python3"
  },
  "language_info": {
   "codemirror_mode": {
    "name": "ipython",
    "version": 3
   },
   "file_extension": ".py",
   "mimetype": "text/x-python",
   "name": "python",
   "nbconvert_exporter": "python",
   "pygments_lexer": "ipython3",
   "version": "3.9.19"
  }
 },
 "nbformat": 4,
 "nbformat_minor": 4
}
