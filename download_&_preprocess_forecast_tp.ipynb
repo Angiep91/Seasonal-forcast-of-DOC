{
 "cells": [
  {
   "cell_type": "markdown",
   "metadata": {
    "papermill": {
     "duration": 0.08321,
     "end_time": "2022-03-14T17:49:44.888825",
     "exception": false,
     "start_time": "2022-03-14T17:49:44.805615",
     "status": "completed"
    },
    "tags": []
   },
   "source": [
    "![logo](./img/LogoLine_horizon_C3S.png)"
   ]
  },
  {
   "cell_type": "markdown",
   "metadata": {
    "papermill": {
     "duration": 0.081751,
     "end_time": "2022-03-14T17:49:45.053733",
     "exception": false,
     "start_time": "2022-03-14T17:49:44.971982",
     "status": "completed"
    },
    "tags": []
   },
   "source": [
    "<br>"
   ]
  },
  {
   "cell_type": "markdown",
   "metadata": {
    "papermill": {
     "duration": 0.082814,
     "end_time": "2022-03-14T17:49:45.21891",
     "exception": false,
     "start_time": "2022-03-14T17:49:45.136096",
     "status": "completed"
    },
    "tags": []
   },
   "source": [
    "# Seasonal forecast download and plot for one coordinate"
   ]
  },
  {
   "cell_type": "markdown",
   "metadata": {
    "papermill": {
     "duration": 0.080985,
     "end_time": "2022-03-14T17:49:45.381362",
     "exception": false,
     "start_time": "2022-03-14T17:49:45.300377",
     "status": "completed"
    },
    "tags": []
   },
   "source": [
    "### About"
   ]
  },
  {
   "cell_type": "markdown",
   "metadata": {
    "papermill": {
     "duration": 0.081266,
     "end_time": "2022-03-14T17:49:45.544033",
     "exception": false,
     "start_time": "2022-03-14T17:49:45.462767",
     "status": "completed"
    },
    "tags": []
   },
   "source": [
    "This notebook is based on \"Seasonal Forecast Anomalies\": https://ecmwf-projects.github.io/copernicus-training-c3s/sf-anomalies.html\n",
    "It was mainly modified to use daily resolution instead of monthly.\n",
    "It provides a practical introduction to calculating seasonal forecast with data from the Copernicus Climate Change Service (C3S). C3S seasonal forecast products are based on data from several state-of-the-art seasonal prediction systems. In this tutorial we shall focus on the [ECMWF SEAS5 model](https://confluence.ecmwf.int/display/CKB/Description+of+SEAS5+C3S+contribution), which is one of the forecasting systems available through C3S.\n",
    "\n",
    "The tutorial will demonstrate how to access real-time forecast data of total precipitation, with a forecast start date in May 2023 and 6-7 monthly lead times (up to October 2023). Hindcast data for the same start date and lead-time months in the reference period 1993 to 2016 will also be downloaded. \n",
    "\n",
    "The tutorial will then show how to interpolate in a coordinate for both the forecast and hindcast data. (The climate mean for the reference period will be computed and this reference mean will be subtracted from the real-time forecast data to derive monthly anomalies BORRAR?). These will be visualised as time series. Finally, 3-monthly anomalies will be calculated and visualised in an interactive plot, as a demonstration of how to reproduce similar [charts available through C3S](https://climate.copernicus.eu/charts/c3s_seasonal/)."
   ]
  },
  {
   "cell_type": "markdown",
   "metadata": {
    "papermill": {
     "duration": 0.080595,
     "end_time": "2022-03-14T17:49:45.706112",
     "exception": false,
     "start_time": "2022-03-14T17:49:45.625517",
     "status": "completed"
    },
    "tags": []
   },
   "source": [
    "\n",
    "The notebook has the following outline:\n",
    "* 1 - Download data from the CDS\n",
    "* 2 - Hindcast data \n",
    "* 3 - Real-time forecasts"
   ]
  },
  {
   "cell_type": "markdown",
   "metadata": {},
   "source": [
    "<br>"
   ]
  },
  {
   "cell_type": "markdown",
   "metadata": {},
   "source": [
    "<div class=\"alert alert-block alert-success\">\n",
    "<b>NOTE</b>: <br>\n",
    "    <a href=\"https://cds.climate.copernicus.eu/cdsapp#!/dataset/seasonal-postprocessed-single-levels\">Precomputed anomalies are also available through the CDS</a>. Note these may be slightly different due to minor differences in the way they are computed (e.g. months of constant length, 30 days)  and also due to GRIB packing discretisation. <a href=\"https://confluence.ecmwf.int/display/UDOC/Why+are+there+sometimes+small+negative+precipitation+accumulations+-+ecCodes+GRIB+FAQ\">See here for more detials.</a></div>"
   ]
  },
  {
   "cell_type": "markdown",
   "metadata": {
    "papermill": {
     "duration": 0.080906,
     "end_time": "2022-03-14T17:49:45.869012",
     "exception": false,
     "start_time": "2022-03-14T17:49:45.788106",
     "status": "completed"
    },
    "tags": []
   },
   "source": [
    "Please see here the full documentation of the [C3S Seasonal Forecast Datasets](https://confluence.ecmwf.int/display/CKB/C3S+Seasonal+Forecasts%3A+datasets+documentation). This notebook introduces you to the [seasonal forecast monthly statistics](https://cds.climate.copernicus.eu/cdsapp#!/dataset/seasonal-monthly-single-levels?tab=overview) datasets on single levels (as opposed to multiple levels in the atmosphere)."
   ]
  },
  {
   "cell_type": "markdown",
   "metadata": {
    "papermill": {
     "duration": 0.082989,
     "end_time": "2022-03-14T17:49:46.192983",
     "exception": false,
     "start_time": "2022-03-14T17:49:46.109994",
     "status": "completed"
    },
    "tags": []
   },
   "source": [
    "<style>\n",
    "td, th {\n",
    "   border: 1px solid white;\n",
    "   border-collapse: collapse;\n",
    "}\n",
    "</style>\n",
    "<table align=\"left\">\n",
    "  <tr>\n",
    "    <th>Run the tutorial via free cloud platforms: </th>\n",
    "    <th><a href=\"https://mybinder.org/v2/gh/ecmwf-projects/copernicus-training-c3s/main?labpath=sf-anomalies.ipynb\">\n",
    "        <img src = \"https://mybinder.org/badge.svg\" alt = \"Binder\"></th>\n",
    "    <th><a href=\"https://kaggle.com/kernels/welcome?src=https://github.com/ecmwf-projects/copernicus-training-c3s/blob/main/sf-anomalies.ipynb\">\n",
    "        <img src = \"https://kaggle.com/static/images/open-in-kaggle.svg\" alt = \"Kaggle\"></th>\n",
    "    <th><a href=\"https://colab.research.google.com/github/ecmwf-projects/copernicus-training-c3s/blob/main/sf-anomalies.ipynb\">\n",
    "        <img src = \"https://colab.research.google.com/assets/colab-badge.svg\" alt = \"Colab\"></th>\n",
    "  </tr>\n",
    "</table>"
   ]
  },
  {
   "cell_type": "markdown",
   "metadata": {
    "papermill": {
     "duration": 0.081673,
     "end_time": "2022-03-14T17:49:46.520252",
     "exception": false,
     "start_time": "2022-03-14T17:49:46.438579",
     "status": "completed"
    },
    "tags": []
   },
   "source": [
    "<hr>"
   ]
  },
  {
   "cell_type": "markdown",
   "metadata": {
    "papermill": {
     "duration": 0.081079,
     "end_time": "2022-03-14T17:49:46.683509",
     "exception": false,
     "start_time": "2022-03-14T17:49:46.60243",
     "status": "completed"
    },
    "tags": []
   },
   "source": [
    "### Install packages"
   ]
  },
  {
   "cell_type": "code",
   "execution_count": null,
   "metadata": {
    "papermill": {
     "duration": 12.174934,
     "end_time": "2022-03-14T17:49:58.941932",
     "exception": false,
     "start_time": "2022-03-14T17:49:46.766998",
     "status": "completed"
    },
    "tags": []
   },
   "outputs": [],
   "source": [
    "# Install CDS API for downloading data from the CDS\n",
    "!pip install \"cdsapi>=0.7.2\""
   ]
  },
  {
   "cell_type": "code",
   "execution_count": null,
   "metadata": {
    "papermill": {
     "duration": 127.036612,
     "end_time": "2022-03-14T17:52:06.036378",
     "exception": false,
     "start_time": "2022-03-14T17:49:58.999766",
     "status": "completed"
    },
    "tags": []
   },
   "outputs": [],
   "source": [
    "# Install cfgrib to enable us to read GRIB format files\n",
    "!conda install -c conda-forge cfgrib -y\n",
    "#conda update -n base -c conda-forge conda"
   ]
  },
  {
   "cell_type": "code",
   "execution_count": 27,
   "metadata": {
    "papermill": {
     "duration": 2.519057,
     "end_time": "2022-03-14T17:52:09.394032",
     "exception": false,
     "start_time": "2022-03-14T17:52:06.874975",
     "status": "completed"
    },
    "tags": []
   },
   "outputs": [],
   "source": [
    "# Miscellaneous operating system interfaces\n",
    "import os\n",
    "\n",
    "# CDS API\n",
    "import cdsapi\n",
    "\n",
    "# To map GRIB files to NetCDF Common Data Model\n",
    "import cfgrib\n",
    "\n",
    "# Libraries for working with multi-dimensional arrays\n",
    "import numpy as np\n",
    "import xarray as xr\n",
    "import pandas as pd\n",
    "import scipy\n",
    "\n",
    "# Libraries for plotting and geospatial data visualisation\n",
    "import matplotlib.path as mpath\n",
    "import matplotlib.pyplot as plt\n",
    "\n",
    "import cartopy.crs as ccrs\n",
    "from cartopy.mpl.gridliner import LONGITUDE_FORMATTER, LATITUDE_FORMATTER\n",
    "import cartopy.feature as cfeature\n",
    "\n",
    "# To work with data labels in dictionary format\n",
    "from collections import OrderedDict\n",
    "\n",
    "# Date and time related libraries\n",
    "from dateutil.relativedelta import relativedelta\n",
    "from calendar import monthrange\n",
    "import datetime\n",
    "\n",
    "# Interactive HTML widgets\n",
    "import ipywidgets as widgets\n",
    "\n",
    "# Disable warnings for data download via API\n",
    "import urllib3 \n",
    "urllib3.disable_warnings()"
   ]
  },
  {
   "cell_type": "markdown",
   "metadata": {
    "papermill": {
     "duration": 0.359685,
     "end_time": "2022-03-14T17:52:10.17792",
     "exception": false,
     "start_time": "2022-03-14T17:52:09.818235",
     "status": "completed"
    },
    "tags": []
   },
   "source": [
    "<hr>"
   ]
  },
  {
   "cell_type": "markdown",
   "metadata": {
    "papermill": {
     "duration": 0.274576,
     "end_time": "2022-03-14T17:52:10.724408",
     "exception": false,
     "start_time": "2022-03-14T17:52:10.449832",
     "status": "completed"
    },
    "tags": []
   },
   "source": [
    "## 1. Request data from the CDS programmatically with the CDS API"
   ]
  },
  {
   "cell_type": "markdown",
   "metadata": {
    "papermill": {
     "duration": 0.317649,
     "end_time": "2022-03-14T17:52:11.316089",
     "exception": false,
     "start_time": "2022-03-14T17:52:10.99844",
     "status": "completed"
    },
    "tags": []
   },
   "source": [
    "The first step is to request data from the Climate Data Store programmatically with the help of the CDS API. Let us make use of the option to manually set the CDS API credentials. First, you have to define two variables: `URL` and `KEY` which build together your CDS API key. Below, you have to replace the `#########` with your personal CDS key. Please find [here](https://cds.climate.copernicus.eu/api-how-to) your personal CDS key."
   ]
  },
  {
   "cell_type": "code",
   "execution_count": 34,
   "metadata": {
    "papermill": {
     "duration": 0.431818,
     "end_time": "2022-03-14T17:52:12.171912",
     "exception": false,
     "start_time": "2022-03-14T17:52:11.740094",
     "status": "completed"
    },
    "tags": []
   },
   "outputs": [],
   "source": [
    "URL = 'https://cds.climate.copernicus.eu/api'  #https://cds.climate.copernicus.eu/api'\n",
    "KEY = '7c7e2544-915e-4f95-b994-8a949747cd5d'\n",
    "variable_name = 'total_precipitation'\n",
    "var_short = 'tp'\n",
    "month_num = 12\n",
    "forecast_year = 2023"
   ]
  },
  {
   "cell_type": "markdown",
   "metadata": {},
   "source": [
    "Here we specify a data directory in which we will download our data and all output files that we will generate:"
   ]
  },
  {
   "cell_type": "code",
   "execution_count": 35,
   "metadata": {},
   "outputs": [],
   "source": [
    "DATADIR = 'C:/Users/apedregal/Documents/inventWater_docs/Modelling/Seasonal forecasts/seasonal/forecast/'"
   ]
  },
  {
   "cell_type": "markdown",
   "metadata": {
    "papermill": {
     "duration": 0.42258,
     "end_time": "2022-03-14T17:52:13.01783",
     "exception": false,
     "start_time": "2022-03-14T17:52:12.59525",
     "status": "completed"
    },
    "tags": []
   },
   "source": [
    "The next step is then to request the seasonal forecast daily data on single levels with the help of the CDS API. \n",
    "Below, we download two separate files of the variable for six monthly lead times.\n",
    "For instance to start date in May: \n",
    "                                                                                                     **Forecasts for November 2019**\n",
    "\n",
    "Seasonal forecast data are disseminated in the GRIB data format. Let us store the data in the main working directory with the name: \n",
    "* `ecmwf_seas5_2023_05_forecast_daily_tp.grib`.\n",
    "\n",
    "Running the code block below will download the data from the CDS as specified by the following API keywords:\n",
    "\n",
    "> **Format**: `Grib` <br>\n",
    "> **Originating centre**: `ECMWF` <br>\n",
    "> **System**: `5` *this refers to SEAS5* <br>\n",
    "> **Variable**: `Total precipitation` or `2m temperature` <br>\n",
    "> **Product type**: `Monthly mean` *all ensemble members will be retrieved* <br>\n",
    "> **Year**: `1993 to 2016` *for the hindcast* `2023` *for the forecast* <br>\n",
    "> **Month**: `5` *May* <br>\n",
    "> **Leadtime month**: `1 to 6` *May to October*"
   ]
  },
  {
   "cell_type": "markdown",
   "metadata": {},
   "source": [
    "If you have not already done so, you will need to accept the **terms & conditions** of the data before you can download it. These can be viewed and accepted in the [CDS download page](https://cds.climate.copernicus.eu/cdsapp#!/dataset/seasonal-monthly-single-levels?tab=form) by scrolling to the end of the download form."
   ]
  },
  {
   "cell_type": "markdown",
   "metadata": {},
   "source": [
    "<div class=\"alert alert-block alert-success\">\n",
    "<b>NOTE</b>: <br>\n",
    "    The API request below can be generated automatically from the <a href=\"https://cds.climate.copernicus.eu/cdsapp#!/dataset/seasonal-monthly-single-levels?tab=form\">CDS download page</a>. At the end of the download form there is a <code>Show API request</code> icon, which allows a copy-paste of the code below.</div>"
   ]
  },
  {
   "cell_type": "code",
   "execution_count": 36,
   "metadata": {},
   "outputs": [
    {
     "name": "stderr",
     "output_type": "stream",
     "text": [
      "2025-02-16 21:13:21,974 INFO [2024-09-26T00:00:00] Watch our [Forum](https://forum.ecmwf.int/) for Announcements, news and other discussed topics.\n",
      "2025-02-16 21:13:21,974 WARNING [2024-06-16T00:00:00] CDS API syntax is changed and some keys or parameter names may have also changed. To avoid requests failing, please use the \"Show API request code\" tool on the dataset Download Form to check you are using the correct syntax for your API request.\n",
      "2025-02-16 21:13:22,921 INFO Request ID is cb5d33c1-5a3e-4dc4-a3fd-290993213f77\n",
      "2025-02-16 21:13:22,996 INFO status has been updated to accepted\n",
      "2025-02-16 21:13:27,976 INFO status has been updated to running\n",
      "2025-02-16 21:14:38,491 INFO status has been updated to successful\n"
     ]
    },
    {
     "data": {
      "application/vnd.jupyter.widget-view+json": {
       "model_id": "",
       "version_major": 2,
       "version_minor": 0
      },
      "text/plain": [
       "7a18016efa9ef0b674d2e6899de7b18d.grib:   0%|          | 0.00/1.30M [00:00<?, ?B/s]"
      ]
     },
     "metadata": {},
     "output_type": "display_data"
    },
    {
     "data": {
      "text/plain": [
       "'C:/Users/apedregal/Documents/inventWater_docs/Modelling/Seasonal forecasts/seasonal/forecast//ecmwf_seas5_2023_12_forecast_daily_tp.grib'"
      ]
     },
     "execution_count": 36,
     "metadata": {},
     "output_type": "execute_result"
    }
   ],
   "source": [
    "c = cdsapi.Client(url=URL, key=KEY)\n",
    "\n",
    "# Forecast data request\n",
    "c.retrieve(\n",
    "    'seasonal-original-single-levels',\n",
    "    {\n",
    "        'format': 'grib',\n",
    "        'originating_centre': 'ecmwf',\n",
    "        'system': '51',\n",
    "        'variable': variable_name,\n",
    "        'year': forecast_year,\n",
    "        'month': month_num,\n",
    "        'day': '01',\n",
    "        'leadtime_hour': [\n",
    "            '24', '48', '72',\n",
    "            '96', '120', '144',\n",
    "            '168', '192', '216',\n",
    "            '240', '264', '288',\n",
    "            '312', '336', '360',\n",
    "            '384', '408', '432',\n",
    "            '456', '480', '504',\n",
    "            '528', '552', '576',\n",
    "            '600', '624', '648',\n",
    "            '672', '696', '720',\n",
    "            '744', '768', '792',\n",
    "            '816', '840', '864',\n",
    "            '888', '912', '936',\n",
    "            '960', '984', '1008',\n",
    "            '1032', '1056', '1080',\n",
    "            '1104', '1128', '1152',\n",
    "            '1176', '1200', '1224',\n",
    "            '1248', '1272', '1296',\n",
    "            '1320', '1344', '1368',\n",
    "            '1392', '1416', '1440',\n",
    "            '1464', '1488', '1512',\n",
    "            '1536', '1560', '1584',\n",
    "            '1608', '1632', '1656',\n",
    "            '1680', '1704', '1728',\n",
    "            '1752', '1776', '1800',\n",
    "            '1824', '1848', '1872',\n",
    "            '1896', '1920', '1944',\n",
    "            '1968', '1992', '2016',\n",
    "            '2040', '2064', '2088',\n",
    "            '2112', '2136', '2160',\n",
    "            '2184', '2208', '2232',\n",
    "            '2256', '2280', '2304',\n",
    "            '2328', '2352', '2376',\n",
    "            '2400', '2424', '2448',\n",
    "            '2472', '2496', '2520',\n",
    "            '2544', '2568', '2592',\n",
    "            '2616', '2640', '2664',\n",
    "            '2688', '2712', '2736',\n",
    "            '2760', '2784', '2808',\n",
    "            '2832', '2856', '2880',\n",
    "            '2904', '2928', '2952',\n",
    "            '2976', '3000', '3024',\n",
    "            '3048', '3072', '3096',\n",
    "            '3120', '3144', '3168',\n",
    "            '3192', '3216', '3240',\n",
    "            '3264', '3288', '3312',\n",
    "            '3336', '3360', '3384',\n",
    "            '3408', '3432', '3456',\n",
    "            '3480', '3504', '3528',\n",
    "            '3552', '3576', '3600',\n",
    "            '3624', '3648', '3672',\n",
    "            '3696', '3720', '3744',\n",
    "            '3768', '3792', '3816',\n",
    "            '3840', '3864', '3888',\n",
    "            '3912', '3936', '3960',\n",
    "            '3984', '4008', '4032',\n",
    "            '4056', '4080', '4104',\n",
    "            '4128', '4152', '4176',\n",
    "            '4200', '4224', '4248',\n",
    "            '4272', '4296', '4320',\n",
    "            '4344', '4368', '4392',\n",
    "            '4416', '4440', '4464',\n",
    "            '4488', '4512', '4536',\n",
    "            '4560', '4584', '4608',\n",
    "            '4632', '4656', '4680',\n",
    "            '4704', '4728', '4752',\n",
    "            '4776', '4800', '4824',\n",
    "            '4848', '4872', '4896',\n",
    "            '4920', '4944', '4968',\n",
    "            '4992', '5016', '5040',\n",
    "            '5064', '5088', '5112',\n",
    "            '5136', '5160',\n",
    "        ],\n",
    "        'area': [\n",
    "            43, 2, 42,\n",
    "            3,\n",
    "        ],\n",
    "    },\n",
    "    f'{DATADIR}/ecmwf_seas5_'+ str(forecast_year) + '_' + str(month_num) + '_forecast_daily_' + var_short + '.grib')"
   ]
  },
  {
   "cell_type": "markdown",
   "metadata": {
    "papermill": {
     "duration": null,
     "end_time": null,
     "exception": null,
     "start_time": null,
     "status": "pending"
    },
    "tags": []
   },
   "source": [
    "## 2. Seasonal forecast data"
   ]
  },
  {
   "cell_type": "markdown",
   "metadata": {
    "papermill": {
     "duration": null,
     "end_time": null,
     "exception": null,
     "start_time": null,
     "status": "pending"
    },
    "tags": []
   },
   "source": [
    "The next step is to load the real-time seasonal forecast data for 6 lead time months. We will then subtract the hindcast climatology from this to derive the anomalies. \n"
   ]
  },
  {
   "cell_type": "markdown",
   "metadata": {},
   "source": [
    "Once the `xarray.Dataset` is loaded, you see that it has 4 dimensions:\n",
    "> **Number**: 51 ensemble members <br>\n",
    "> **ForecastMonth**: 6 leadtime months <br>\n",
    "> **Latitude**: latitude values <br>\n",
    "> **Longitude**: longitude values <br>\n",
    "\n",
    "Compared to the hindcast data, we have only a single start date (e.g., May 2023) in the `time` coordinate. Another difference is that seasonal forecast real-time data have 51 ensemble members, compared to hindcasts, which only have 25 ensemble members."
   ]
  },
  {
   "cell_type": "code",
   "execution_count": 17,
   "metadata": {},
   "outputs": [],
   "source": [
    "#forecast_year=2019\n",
    "#month_num=12"
   ]
  },
  {
   "cell_type": "code",
   "execution_count": 37,
   "metadata": {},
   "outputs": [],
   "source": [
    "# Define the coordinates to interpolate to\n",
    "interp_longitude=2.25 #C1=C2=2.25\n",
    "interp_latitude=42.3  #C1=42.3, C2=42.05  --> SEAS5 HAS 1º RESOLUTION, SO, THE SAME VALUES ARE FOR C1 & C2"
   ]
  },
  {
   "cell_type": "code",
   "execution_count": 38,
   "metadata": {
    "papermill": {
     "duration": null,
     "end_time": null,
     "exception": null,
     "start_time": null,
     "status": "pending"
    },
    "tags": []
   },
   "outputs": [],
   "source": [
    "fore = xr.open_dataset(f'{DATADIR}/ecmwf_seas5_'+ str(forecast_year) + '_' + str(month_num) + '_forecast_daily_' + var_short + '.grib', engine='cfgrib')"
   ]
  },
  {
   "cell_type": "code",
   "execution_count": 39,
   "metadata": {
    "papermill": {
     "duration": null,
     "end_time": null,
     "exception": null,
     "start_time": null,
     "status": "pending"
    },
    "tags": []
   },
   "outputs": [],
   "source": [
    "fore_var = fore[var_short]"
   ]
  },
  {
   "cell_type": "markdown",
   "metadata": {
    "papermill": {
     "duration": null,
     "end_time": null,
     "exception": null,
     "start_time": null,
     "status": "pending"
    },
    "tags": []
   },
   "source": [
    "#### Convert forecast lead time month into dates\n"
   ]
  },
  {
   "cell_type": "code",
   "execution_count": 40,
   "metadata": {},
   "outputs": [],
   "source": [
    "# Interpolate the values for the specified coordinates\n",
    "fore_interp = fore_var.interp(latitude=interp_latitude, longitude=interp_longitude, method=\"nearest\")"
   ]
  },
  {
   "cell_type": "code",
   "execution_count": 41,
   "metadata": {},
   "outputs": [],
   "source": [
    "#verify number of members\n",
    "num_members = len(fore_interp)\n",
    "#calculate the difference throughout the steps (215 days) to obtain daily precipitation\n",
    "fore_diff = fore_interp.diff(dim='step') # by default does it along the last axis \n",
    "#Prepend the value of the original step 1 to the differences array. Otherwise the time series only has 214 steps instead of 215\n",
    "first_step_value = fore_interp.isel(step=0)  # Get the value of the original step 1\n",
    "# Concatenate first_step_value with subset_hind_diff along the 'step' dimension in order to obtain the 215 steps\n",
    "fore_diff_with_first = xr.concat([first_step_value, fore_diff], dim='step')"
   ]
  },
  {
   "cell_type": "code",
   "execution_count": 42,
   "metadata": {},
   "outputs": [
    {
     "data": {
      "image/png": "[encoded data removed]",
      "text/plain": [
       "<Figure size 640x480 with 1 Axes>"
      ]
     },
     "metadata": {},
     "output_type": "display_data"
    }
   ],
   "source": [
    "for i in range(num_members):\n",
    "    # Select the subset of data for the current number\n",
    "    subset = fore_diff_with_first.sel(number=i)*1000\n",
    "    \n",
    "    # Plotting\n",
    "    plt.plot(subset, color='gray', alpha=0.5, label=f'Number {i}')\n",
    "\n",
    "#plot average in black\n",
    "plt.plot(fore_diff.mean(dim='number')*1000, color='black')\n",
    "\n",
    "# Add labels and title\n",
    "plt.xlabel('Days')\n",
    "plt.ylabel('tp (mm/day)')\n",
    "plt.title('Data for each number')\n",
    "#plt.legend()  # Add legend to differentiate lines\n",
    "plt.show()\n"
   ]
  },
  {
   "cell_type": "code",
   "execution_count": 43,
   "metadata": {},
   "outputs": [
    {
     "data": {
      "text/plain": [
       "('number', 'step')"
      ]
     },
     "execution_count": 43,
     "metadata": {},
     "output_type": "execute_result"
    }
   ],
   "source": [
    "fore_diff_with_first.dims"
   ]
  },
  {
   "cell_type": "markdown",
   "metadata": {},
   "source": [
    "## 3. Extracting data to csv files"
   ]
  },
  {
   "cell_type": "code",
   "execution_count": 44,
   "metadata": {},
   "outputs": [],
   "source": [
    "#Set the path to save forecast files\n",
    "save_path = 'C:/Users/apedregal/Documents/inventWater_docs/Modelling/Seasonal forecasts/seasonal/forecast/'"
   ]
  },
  {
   "cell_type": "code",
   "execution_count": 45,
   "metadata": {},
   "outputs": [
    {
     "name": "stdout",
     "output_type": "stream",
     "text": [
      "Saved member 1 to C:/Users/apedregal/Documents/inventWater_docs/Modelling/Seasonal forecasts/seasonal/forecast/forecast_year2023_month12_member1_tp.csv\n",
      "Saved member 2 to C:/Users/apedregal/Documents/inventWater_docs/Modelling/Seasonal forecasts/seasonal/forecast/forecast_year2023_month12_member2_tp.csv\n",
      "Saved member 3 to C:/Users/apedregal/Documents/inventWater_docs/Modelling/Seasonal forecasts/seasonal/forecast/forecast_year2023_month12_member3_tp.csv\n",
      "Saved member 4 to C:/Users/apedregal/Documents/inventWater_docs/Modelling/Seasonal forecasts/seasonal/forecast/forecast_year2023_month12_member4_tp.csv\n",
      "Saved member 5 to C:/Users/apedregal/Documents/inventWater_docs/Modelling/Seasonal forecasts/seasonal/forecast/forecast_year2023_month12_member5_tp.csv\n",
      "Saved member 6 to C:/Users/apedregal/Documents/inventWater_docs/Modelling/Seasonal forecasts/seasonal/forecast/forecast_year2023_month12_member6_tp.csv\n",
      "Saved member 7 to C:/Users/apedregal/Documents/inventWater_docs/Modelling/Seasonal forecasts/seasonal/forecast/forecast_year2023_month12_member7_tp.csv\n",
      "Saved member 8 to C:/Users/apedregal/Documents/inventWater_docs/Modelling/Seasonal forecasts/seasonal/forecast/forecast_year2023_month12_member8_tp.csv\n",
      "Saved member 9 to C:/Users/apedregal/Documents/inventWater_docs/Modelling/Seasonal forecasts/seasonal/forecast/forecast_year2023_month12_member9_tp.csv\n",
      "Saved member 10 to C:/Users/apedregal/Documents/inventWater_docs/Modelling/Seasonal forecasts/seasonal/forecast/forecast_year2023_month12_member10_tp.csv\n",
      "Saved member 11 to C:/Users/apedregal/Documents/inventWater_docs/Modelling/Seasonal forecasts/seasonal/forecast/forecast_year2023_month12_member11_tp.csv\n",
      "Saved member 12 to C:/Users/apedregal/Documents/inventWater_docs/Modelling/Seasonal forecasts/seasonal/forecast/forecast_year2023_month12_member12_tp.csv\n",
      "Saved member 13 to C:/Users/apedregal/Documents/inventWater_docs/Modelling/Seasonal forecasts/seasonal/forecast/forecast_year2023_month12_member13_tp.csv\n",
      "Saved member 14 to C:/Users/apedregal/Documents/inventWater_docs/Modelling/Seasonal forecasts/seasonal/forecast/forecast_year2023_month12_member14_tp.csv\n",
      "Saved member 15 to C:/Users/apedregal/Documents/inventWater_docs/Modelling/Seasonal forecasts/seasonal/forecast/forecast_year2023_month12_member15_tp.csv\n",
      "Saved member 16 to C:/Users/apedregal/Documents/inventWater_docs/Modelling/Seasonal forecasts/seasonal/forecast/forecast_year2023_month12_member16_tp.csv\n",
      "Saved member 17 to C:/Users/apedregal/Documents/inventWater_docs/Modelling/Seasonal forecasts/seasonal/forecast/forecast_year2023_month12_member17_tp.csv\n",
      "Saved member 18 to C:/Users/apedregal/Documents/inventWater_docs/Modelling/Seasonal forecasts/seasonal/forecast/forecast_year2023_month12_member18_tp.csv\n",
      "Saved member 19 to C:/Users/apedregal/Documents/inventWater_docs/Modelling/Seasonal forecasts/seasonal/forecast/forecast_year2023_month12_member19_tp.csv\n",
      "Saved member 20 to C:/Users/apedregal/Documents/inventWater_docs/Modelling/Seasonal forecasts/seasonal/forecast/forecast_year2023_month12_member20_tp.csv\n",
      "Saved member 21 to C:/Users/apedregal/Documents/inventWater_docs/Modelling/Seasonal forecasts/seasonal/forecast/forecast_year2023_month12_member21_tp.csv\n",
      "Saved member 22 to C:/Users/apedregal/Documents/inventWater_docs/Modelling/Seasonal forecasts/seasonal/forecast/forecast_year2023_month12_member22_tp.csv\n",
      "Saved member 23 to C:/Users/apedregal/Documents/inventWater_docs/Modelling/Seasonal forecasts/seasonal/forecast/forecast_year2023_month12_member23_tp.csv\n",
      "Saved member 24 to C:/Users/apedregal/Documents/inventWater_docs/Modelling/Seasonal forecasts/seasonal/forecast/forecast_year2023_month12_member24_tp.csv\n",
      "Saved member 25 to C:/Users/apedregal/Documents/inventWater_docs/Modelling/Seasonal forecasts/seasonal/forecast/forecast_year2023_month12_member25_tp.csv\n",
      "Saved member 26 to C:/Users/apedregal/Documents/inventWater_docs/Modelling/Seasonal forecasts/seasonal/forecast/forecast_year2023_month12_member26_tp.csv\n",
      "Saved member 27 to C:/Users/apedregal/Documents/inventWater_docs/Modelling/Seasonal forecasts/seasonal/forecast/forecast_year2023_month12_member27_tp.csv\n",
      "Saved member 28 to C:/Users/apedregal/Documents/inventWater_docs/Modelling/Seasonal forecasts/seasonal/forecast/forecast_year2023_month12_member28_tp.csv\n",
      "Saved member 29 to C:/Users/apedregal/Documents/inventWater_docs/Modelling/Seasonal forecasts/seasonal/forecast/forecast_year2023_month12_member29_tp.csv\n",
      "Saved member 30 to C:/Users/apedregal/Documents/inventWater_docs/Modelling/Seasonal forecasts/seasonal/forecast/forecast_year2023_month12_member30_tp.csv\n",
      "Saved member 31 to C:/Users/apedregal/Documents/inventWater_docs/Modelling/Seasonal forecasts/seasonal/forecast/forecast_year2023_month12_member31_tp.csv\n",
      "Saved member 32 to C:/Users/apedregal/Documents/inventWater_docs/Modelling/Seasonal forecasts/seasonal/forecast/forecast_year2023_month12_member32_tp.csv\n",
      "Saved member 33 to C:/Users/apedregal/Documents/inventWater_docs/Modelling/Seasonal forecasts/seasonal/forecast/forecast_year2023_month12_member33_tp.csv\n",
      "Saved member 34 to C:/Users/apedregal/Documents/inventWater_docs/Modelling/Seasonal forecasts/seasonal/forecast/forecast_year2023_month12_member34_tp.csv\n",
      "Saved member 35 to C:/Users/apedregal/Documents/inventWater_docs/Modelling/Seasonal forecasts/seasonal/forecast/forecast_year2023_month12_member35_tp.csv\n",
      "Saved member 36 to C:/Users/apedregal/Documents/inventWater_docs/Modelling/Seasonal forecasts/seasonal/forecast/forecast_year2023_month12_member36_tp.csv\n",
      "Saved member 37 to C:/Users/apedregal/Documents/inventWater_docs/Modelling/Seasonal forecasts/seasonal/forecast/forecast_year2023_month12_member37_tp.csv\n",
      "Saved member 38 to C:/Users/apedregal/Documents/inventWater_docs/Modelling/Seasonal forecasts/seasonal/forecast/forecast_year2023_month12_member38_tp.csv\n",
      "Saved member 39 to C:/Users/apedregal/Documents/inventWater_docs/Modelling/Seasonal forecasts/seasonal/forecast/forecast_year2023_month12_member39_tp.csv\n",
      "Saved member 40 to C:/Users/apedregal/Documents/inventWater_docs/Modelling/Seasonal forecasts/seasonal/forecast/forecast_year2023_month12_member40_tp.csv\n",
      "Saved member 41 to C:/Users/apedregal/Documents/inventWater_docs/Modelling/Seasonal forecasts/seasonal/forecast/forecast_year2023_month12_member41_tp.csv\n",
      "Saved member 42 to C:/Users/apedregal/Documents/inventWater_docs/Modelling/Seasonal forecasts/seasonal/forecast/forecast_year2023_month12_member42_tp.csv\n",
      "Saved member 43 to C:/Users/apedregal/Documents/inventWater_docs/Modelling/Seasonal forecasts/seasonal/forecast/forecast_year2023_month12_member43_tp.csv\n",
      "Saved member 44 to C:/Users/apedregal/Documents/inventWater_docs/Modelling/Seasonal forecasts/seasonal/forecast/forecast_year2023_month12_member44_tp.csv\n",
      "Saved member 45 to C:/Users/apedregal/Documents/inventWater_docs/Modelling/Seasonal forecasts/seasonal/forecast/forecast_year2023_month12_member45_tp.csv\n",
      "Saved member 46 to C:/Users/apedregal/Documents/inventWater_docs/Modelling/Seasonal forecasts/seasonal/forecast/forecast_year2023_month12_member46_tp.csv\n",
      "Saved member 47 to C:/Users/apedregal/Documents/inventWater_docs/Modelling/Seasonal forecasts/seasonal/forecast/forecast_year2023_month12_member47_tp.csv\n",
      "Saved member 48 to C:/Users/apedregal/Documents/inventWater_docs/Modelling/Seasonal forecasts/seasonal/forecast/forecast_year2023_month12_member48_tp.csv\n",
      "Saved member 49 to C:/Users/apedregal/Documents/inventWater_docs/Modelling/Seasonal forecasts/seasonal/forecast/forecast_year2023_month12_member49_tp.csv\n",
      "Saved member 50 to C:/Users/apedregal/Documents/inventWater_docs/Modelling/Seasonal forecasts/seasonal/forecast/forecast_year2023_month12_member50_tp.csv\n",
      "Saved member 51 to C:/Users/apedregal/Documents/inventWater_docs/Modelling/Seasonal forecasts/seasonal/forecast/forecast_year2023_month12_member51_tp.csv\n"
     ]
    }
   ],
   "source": [
    "# Loop through each member in the 'number' dimension\n",
    "for i in range(fore_diff_with_first.sizes['number']):\n",
    "    # Select data for the current member and convert the value to Celsius\n",
    "    member_data = fore_diff_with_first.isel(number=i)*1000\n",
    "    \n",
    "    # Convert to a Pandas DataFrame\n",
    "    df = member_data.to_dataframe(name=\"value\").reset_index()\n",
    "    \n",
    "    # Keep only the 'value' column\n",
    "    df = df[['value']]\n",
    "    \n",
    "    # Generate a filename for the current member\n",
    "    file_name = f\"forecast_year{forecast_year}_month{month_num}_member{i+1}_{var_short}.csv\"  # Customize naming convention if needed\n",
    "    full_path = os.path.join(save_path, file_name)\n",
    "    \n",
    "    # Save the DataFrame to a CSV file\n",
    "    df.to_csv(full_path, index=False, header=False)  # Save without index and header\n",
    "    \n",
    "    print(f\"Saved member {i+1} to {full_path}\")"
   ]
  },
  {
   "cell_type": "code",
   "execution_count": null,
   "metadata": {},
   "outputs": [],
   "source": []
  }
 ],
 "metadata": {
  "kernelspec": {
   "display_name": "Python 3 (ipykernel)",
   "language": "python",
   "name": "python3"
  },
  "language_info": {
   "codemirror_mode": {
    "name": "ipython",
    "version": 3
   },
   "file_extension": ".py",
   "mimetype": "text/x-python",
   "name": "python",
   "nbconvert_exporter": "python",
   "pygments_lexer": "ipython3",
   "version": "3.9.19"
  }
 },
 "nbformat": 4,
 "nbformat_minor": 4
}
